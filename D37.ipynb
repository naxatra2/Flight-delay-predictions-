{
 "cells": [
  {
   "cell_type": "code",
   "execution_count": null,
   "id": "f8084a09-878b-47fa-b663-196ca650ffb5",
   "metadata": {
    "id": "f8084a09-878b-47fa-b663-196ca650ffb5"
   },
   "outputs": [],
   "source": [
    "import pandas as pd\n",
    "import numpy as np\n",
    "import matplotlib.pyplot as plt\n",
    "from sklearn.preprocessing import StandardScaler\n",
    "from tensorflow import keras\n",
    "from tensorflow.keras import layers, Model"
   ]
  },
  {
   "cell_type": "code",
   "execution_count": null,
   "id": "6694f3ca-1536-4f71-aa62-1ddc252901e0",
   "metadata": {
    "id": "6694f3ca-1536-4f71-aa62-1ddc252901e0"
   },
   "outputs": [],
   "source": [
    "import shap"
   ]
  },
  {
   "cell_type": "code",
   "execution_count": null,
   "id": "481823fb-d30c-4e1f-8881-11b9e16fcdc6",
   "metadata": {
    "colab": {
     "base_uri": "https://localhost:8080/"
    },
    "executionInfo": {
     "elapsed": 6262,
     "status": "ok",
     "timestamp": 1730507569776,
     "user": {
      "displayName": "vumika ghosh",
      "userId": "17807071800386866614"
     },
     "user_tz": -330
    },
    "id": "481823fb-d30c-4e1f-8881-11b9e16fcdc6",
    "outputId": "5df14ec6-0078-4598-8c31-c012c399f9e5"
   },
   "outputs": [
    {
     "name": "stdout",
     "output_type": "stream",
     "text": [
      "Collecting deep\n",
      "  Downloading deep-0.10.tar.gz (18 kB)\n",
      "  Preparing metadata (setup.py) ... \u001b[?25l\u001b[?25hdone\n",
      "Building wheels for collected packages: deep\n",
      "  Building wheel for deep (setup.py) ... \u001b[?25l\u001b[?25hdone\n",
      "  Created wheel for deep: filename=deep-0.10-py3-none-any.whl size=7602 sha256=b7bae979a2b3f7ab355318d9b0f18eb70a2b15f9ee62399007486dc9dac62b0f\n",
      "  Stored in directory: /root/.cache/pip/wheels/f3/35/e4/febc4b6bdb9a0d0e9f2577c2f4eee7097eab08af70fbaa1a73\n",
      "Successfully built deep\n",
      "Installing collected packages: deep\n",
      "Successfully installed deep-0.10\n"
     ]
    }
   ],
   "source": [
    "%pip install deep "
   ]
  },
  {
   "cell_type": "code",
   "execution_count": null,
   "id": "fa3a4d95-1ae5-4026-bd6b-64731610d452",
   "metadata": {
    "colab": {
     "base_uri": "https://localhost:8080/",
     "height": 297
    },
    "executionInfo": {
     "elapsed": 2332,
     "status": "error",
     "timestamp": 1730507576664,
     "user": {
      "displayName": "vumika ghosh",
      "userId": "17807071800386866614"
     },
     "user_tz": -330
    },
    "id": "fa3a4d95-1ae5-4026-bd6b-64731610d452",
    "outputId": "d1263aea-e421-4746-e0e0-05d9b76b0394"
   },
   "outputs": [
    {
     "ename": "FileNotFoundError",
     "evalue": "[Errno 2] No such file or directory: 'D37.zip'",
     "output_type": "error",
     "traceback": [
      "\u001b[0;31m---------------------------------------------------------------------------\u001b[0m",
      "\u001b[0;31mFileNotFoundError\u001b[0m                         Traceback (most recent call last)",
      "\u001b[0;32m<ipython-input-4-6d7cb5b7cb3e>\u001b[0m in \u001b[0;36m<cell line: 2>\u001b[0;34m()\u001b[0m\n\u001b[1;32m      1\u001b[0m \u001b[0;32mimport\u001b[0m \u001b[0mzipfile\u001b[0m\u001b[0;34m\u001b[0m\u001b[0;34m\u001b[0m\u001b[0m\n\u001b[0;32m----> 2\u001b[0;31m \u001b[0;32mwith\u001b[0m \u001b[0mzipfile\u001b[0m\u001b[0;34m.\u001b[0m\u001b[0mZipFile\u001b[0m\u001b[0;34m(\u001b[0m\u001b[0;34m'D37.zip'\u001b[0m\u001b[0;34m,\u001b[0m \u001b[0;34m'r'\u001b[0m\u001b[0;34m)\u001b[0m \u001b[0;32mas\u001b[0m \u001b[0mzip_ref\u001b[0m\u001b[0;34m:\u001b[0m\u001b[0;34m\u001b[0m\u001b[0;34m\u001b[0m\u001b[0m\n\u001b[0m\u001b[1;32m      3\u001b[0m     \u001b[0mzip_ref\u001b[0m\u001b[0;34m.\u001b[0m\u001b[0mextractall\u001b[0m\u001b[0;34m(\u001b[0m\u001b[0;34m''\u001b[0m\u001b[0;34m)\u001b[0m\u001b[0;34m\u001b[0m\u001b[0;34m\u001b[0m\u001b[0m\n",
      "\u001b[0;32m/usr/lib/python3.10/zipfile.py\u001b[0m in \u001b[0;36m__init__\u001b[0;34m(self, file, mode, compression, allowZip64, compresslevel, strict_timestamps)\u001b[0m\n\u001b[1;32m   1252\u001b[0m             \u001b[0;32mwhile\u001b[0m \u001b[0;32mTrue\u001b[0m\u001b[0;34m:\u001b[0m\u001b[0;34m\u001b[0m\u001b[0;34m\u001b[0m\u001b[0m\n\u001b[1;32m   1253\u001b[0m                 \u001b[0;32mtry\u001b[0m\u001b[0;34m:\u001b[0m\u001b[0;34m\u001b[0m\u001b[0;34m\u001b[0m\u001b[0m\n\u001b[0;32m-> 1254\u001b[0;31m                     \u001b[0mself\u001b[0m\u001b[0;34m.\u001b[0m\u001b[0mfp\u001b[0m \u001b[0;34m=\u001b[0m \u001b[0mio\u001b[0m\u001b[0;34m.\u001b[0m\u001b[0mopen\u001b[0m\u001b[0;34m(\u001b[0m\u001b[0mfile\u001b[0m\u001b[0;34m,\u001b[0m \u001b[0mfilemode\u001b[0m\u001b[0;34m)\u001b[0m\u001b[0;34m\u001b[0m\u001b[0;34m\u001b[0m\u001b[0m\n\u001b[0m\u001b[1;32m   1255\u001b[0m                 \u001b[0;32mexcept\u001b[0m \u001b[0mOSError\u001b[0m\u001b[0;34m:\u001b[0m\u001b[0;34m\u001b[0m\u001b[0;34m\u001b[0m\u001b[0m\n\u001b[1;32m   1256\u001b[0m                     \u001b[0;32mif\u001b[0m \u001b[0mfilemode\u001b[0m \u001b[0;32min\u001b[0m \u001b[0mmodeDict\u001b[0m\u001b[0;34m:\u001b[0m\u001b[0;34m\u001b[0m\u001b[0;34m\u001b[0m\u001b[0m\n",
      "\u001b[0;31mFileNotFoundError\u001b[0m: [Errno 2] No such file or directory: 'D37.zip'"
     ]
    }
   ],
   "source": [
    "import zipfile\n",
    "with zipfile.ZipFile('D37.zip', 'r') as zip_ref:\n",
    "    zip_ref.extractall('')"
   ]
  },
  {
   "cell_type": "code",
   "execution_count": null,
   "id": "f428b5a5-633f-4629-a33b-512734b8fa24",
   "metadata": {
    "colab": {
     "base_uri": "https://localhost:8080/",
     "height": 304
    },
    "executionInfo": {
     "elapsed": 588,
     "status": "error",
     "timestamp": 1730507620589,
     "user": {
      "displayName": "vumika ghosh",
      "userId": "17807071800386866614"
     },
     "user_tz": -330
    },
    "id": "f428b5a5-633f-4629-a33b-512734b8fa24",
    "outputId": "290908a9-33bb-470e-8c28-4c647e6972d0"
   },
   "outputs": [
    {
     "ename": "FileNotFoundError",
     "evalue": "[Errno 2] No such file or directory: 'final.csv'",
     "output_type": "error",
     "traceback": [
      "\u001b[0;31m---------------------------------------------------------------------------\u001b[0m",
      "\u001b[0;31mFileNotFoundError\u001b[0m                         Traceback (most recent call last)",
      "\u001b[0;32m<ipython-input-5-eb3a9cc85f42>\u001b[0m in \u001b[0;36m<cell line: 1>\u001b[0;34m()\u001b[0m\n\u001b[0;32m----> 1\u001b[0;31m \u001b[0mdf\u001b[0m \u001b[0;34m=\u001b[0m \u001b[0mpd\u001b[0m\u001b[0;34m.\u001b[0m\u001b[0mread_csv\u001b[0m\u001b[0;34m(\u001b[0m\u001b[0;34m'final.csv'\u001b[0m\u001b[0;34m,\u001b[0m\u001b[0mlow_memory\u001b[0m\u001b[0;34m=\u001b[0m\u001b[0;32mFalse\u001b[0m\u001b[0;34m)\u001b[0m\u001b[0;34m\u001b[0m\u001b[0;34m\u001b[0m\u001b[0m\n\u001b[0m\u001b[1;32m      2\u001b[0m \u001b[0mdf\u001b[0m \u001b[0;34m=\u001b[0m \u001b[0mdf\u001b[0m\u001b[0;34m.\u001b[0m\u001b[0mdrop\u001b[0m\u001b[0;34m(\u001b[0m\u001b[0;34m[\u001b[0m\u001b[0;34m'Unnamed: 0'\u001b[0m\u001b[0;34m,\u001b[0m \u001b[0;34m'Year'\u001b[0m\u001b[0;34m,\u001b[0m \u001b[0;34m'DepartureDelayGroups'\u001b[0m\u001b[0;34m,\u001b[0m \u001b[0;34m'TaxiOut'\u001b[0m\u001b[0;34m,\u001b[0m \u001b[0;34m'WheelsOff'\u001b[0m\u001b[0;34m,\u001b[0m \u001b[0;34m'WheelsOn'\u001b[0m\u001b[0;34m,\u001b[0m \u001b[0;34m'TaxiIn'\u001b[0m\u001b[0;34m,\u001b[0m \u001b[0;34m'DivAirportLandings'\u001b[0m\u001b[0;34m,\u001b[0m \u001b[0;34m'wpgt'\u001b[0m\u001b[0;34m,\u001b[0m \u001b[0;34m'tsun'\u001b[0m\u001b[0;34m]\u001b[0m\u001b[0;34m,\u001b[0m \u001b[0maxis\u001b[0m \u001b[0;34m=\u001b[0m \u001b[0;36m1\u001b[0m\u001b[0;34m)\u001b[0m\u001b[0;34m\u001b[0m\u001b[0;34m\u001b[0m\u001b[0m\n",
      "\u001b[0;32m/usr/local/lib/python3.10/dist-packages/pandas/io/parsers/readers.py\u001b[0m in \u001b[0;36mread_csv\u001b[0;34m(filepath_or_buffer, sep, delimiter, header, names, index_col, usecols, dtype, engine, converters, true_values, false_values, skipinitialspace, skiprows, skipfooter, nrows, na_values, keep_default_na, na_filter, verbose, skip_blank_lines, parse_dates, infer_datetime_format, keep_date_col, date_parser, date_format, dayfirst, cache_dates, iterator, chunksize, compression, thousands, decimal, lineterminator, quotechar, quoting, doublequote, escapechar, comment, encoding, encoding_errors, dialect, on_bad_lines, delim_whitespace, low_memory, memory_map, float_precision, storage_options, dtype_backend)\u001b[0m\n\u001b[1;32m   1024\u001b[0m     \u001b[0mkwds\u001b[0m\u001b[0;34m.\u001b[0m\u001b[0mupdate\u001b[0m\u001b[0;34m(\u001b[0m\u001b[0mkwds_defaults\u001b[0m\u001b[0;34m)\u001b[0m\u001b[0;34m\u001b[0m\u001b[0;34m\u001b[0m\u001b[0m\n\u001b[1;32m   1025\u001b[0m \u001b[0;34m\u001b[0m\u001b[0m\n\u001b[0;32m-> 1026\u001b[0;31m     \u001b[0;32mreturn\u001b[0m \u001b[0m_read\u001b[0m\u001b[0;34m(\u001b[0m\u001b[0mfilepath_or_buffer\u001b[0m\u001b[0;34m,\u001b[0m \u001b[0mkwds\u001b[0m\u001b[0;34m)\u001b[0m\u001b[0;34m\u001b[0m\u001b[0;34m\u001b[0m\u001b[0m\n\u001b[0m\u001b[1;32m   1027\u001b[0m \u001b[0;34m\u001b[0m\u001b[0m\n\u001b[1;32m   1028\u001b[0m \u001b[0;34m\u001b[0m\u001b[0m\n",
      "\u001b[0;32m/usr/local/lib/python3.10/dist-packages/pandas/io/parsers/readers.py\u001b[0m in \u001b[0;36m_read\u001b[0;34m(filepath_or_buffer, kwds)\u001b[0m\n\u001b[1;32m    618\u001b[0m \u001b[0;34m\u001b[0m\u001b[0m\n\u001b[1;32m    619\u001b[0m     \u001b[0;31m# Create the parser.\u001b[0m\u001b[0;34m\u001b[0m\u001b[0;34m\u001b[0m\u001b[0m\n\u001b[0;32m--> 620\u001b[0;31m     \u001b[0mparser\u001b[0m \u001b[0;34m=\u001b[0m \u001b[0mTextFileReader\u001b[0m\u001b[0;34m(\u001b[0m\u001b[0mfilepath_or_buffer\u001b[0m\u001b[0;34m,\u001b[0m \u001b[0;34m**\u001b[0m\u001b[0mkwds\u001b[0m\u001b[0;34m)\u001b[0m\u001b[0;34m\u001b[0m\u001b[0;34m\u001b[0m\u001b[0m\n\u001b[0m\u001b[1;32m    621\u001b[0m \u001b[0;34m\u001b[0m\u001b[0m\n\u001b[1;32m    622\u001b[0m     \u001b[0;32mif\u001b[0m \u001b[0mchunksize\u001b[0m \u001b[0;32mor\u001b[0m \u001b[0miterator\u001b[0m\u001b[0;34m:\u001b[0m\u001b[0;34m\u001b[0m\u001b[0;34m\u001b[0m\u001b[0m\n",
      "\u001b[0;32m/usr/local/lib/python3.10/dist-packages/pandas/io/parsers/readers.py\u001b[0m in \u001b[0;36m__init__\u001b[0;34m(self, f, engine, **kwds)\u001b[0m\n\u001b[1;32m   1618\u001b[0m \u001b[0;34m\u001b[0m\u001b[0m\n\u001b[1;32m   1619\u001b[0m         \u001b[0mself\u001b[0m\u001b[0;34m.\u001b[0m\u001b[0mhandles\u001b[0m\u001b[0;34m:\u001b[0m \u001b[0mIOHandles\u001b[0m \u001b[0;34m|\u001b[0m \u001b[0;32mNone\u001b[0m \u001b[0;34m=\u001b[0m \u001b[0;32mNone\u001b[0m\u001b[0;34m\u001b[0m\u001b[0;34m\u001b[0m\u001b[0m\n\u001b[0;32m-> 1620\u001b[0;31m         \u001b[0mself\u001b[0m\u001b[0;34m.\u001b[0m\u001b[0m_engine\u001b[0m \u001b[0;34m=\u001b[0m \u001b[0mself\u001b[0m\u001b[0;34m.\u001b[0m\u001b[0m_make_engine\u001b[0m\u001b[0;34m(\u001b[0m\u001b[0mf\u001b[0m\u001b[0;34m,\u001b[0m \u001b[0mself\u001b[0m\u001b[0;34m.\u001b[0m\u001b[0mengine\u001b[0m\u001b[0;34m)\u001b[0m\u001b[0;34m\u001b[0m\u001b[0;34m\u001b[0m\u001b[0m\n\u001b[0m\u001b[1;32m   1621\u001b[0m \u001b[0;34m\u001b[0m\u001b[0m\n\u001b[1;32m   1622\u001b[0m     \u001b[0;32mdef\u001b[0m \u001b[0mclose\u001b[0m\u001b[0;34m(\u001b[0m\u001b[0mself\u001b[0m\u001b[0;34m)\u001b[0m \u001b[0;34m->\u001b[0m \u001b[0;32mNone\u001b[0m\u001b[0;34m:\u001b[0m\u001b[0;34m\u001b[0m\u001b[0;34m\u001b[0m\u001b[0m\n",
      "\u001b[0;32m/usr/local/lib/python3.10/dist-packages/pandas/io/parsers/readers.py\u001b[0m in \u001b[0;36m_make_engine\u001b[0;34m(self, f, engine)\u001b[0m\n\u001b[1;32m   1878\u001b[0m                 \u001b[0;32mif\u001b[0m \u001b[0;34m\"b\"\u001b[0m \u001b[0;32mnot\u001b[0m \u001b[0;32min\u001b[0m \u001b[0mmode\u001b[0m\u001b[0;34m:\u001b[0m\u001b[0;34m\u001b[0m\u001b[0;34m\u001b[0m\u001b[0m\n\u001b[1;32m   1879\u001b[0m                     \u001b[0mmode\u001b[0m \u001b[0;34m+=\u001b[0m \u001b[0;34m\"b\"\u001b[0m\u001b[0;34m\u001b[0m\u001b[0;34m\u001b[0m\u001b[0m\n\u001b[0;32m-> 1880\u001b[0;31m             self.handles = get_handle(\n\u001b[0m\u001b[1;32m   1881\u001b[0m                 \u001b[0mf\u001b[0m\u001b[0;34m,\u001b[0m\u001b[0;34m\u001b[0m\u001b[0;34m\u001b[0m\u001b[0m\n\u001b[1;32m   1882\u001b[0m                 \u001b[0mmode\u001b[0m\u001b[0;34m,\u001b[0m\u001b[0;34m\u001b[0m\u001b[0;34m\u001b[0m\u001b[0m\n",
      "\u001b[0;32m/usr/local/lib/python3.10/dist-packages/pandas/io/common.py\u001b[0m in \u001b[0;36mget_handle\u001b[0;34m(path_or_buf, mode, encoding, compression, memory_map, is_text, errors, storage_options)\u001b[0m\n\u001b[1;32m    871\u001b[0m         \u001b[0;32mif\u001b[0m \u001b[0mioargs\u001b[0m\u001b[0;34m.\u001b[0m\u001b[0mencoding\u001b[0m \u001b[0;32mand\u001b[0m \u001b[0;34m\"b\"\u001b[0m \u001b[0;32mnot\u001b[0m \u001b[0;32min\u001b[0m \u001b[0mioargs\u001b[0m\u001b[0;34m.\u001b[0m\u001b[0mmode\u001b[0m\u001b[0;34m:\u001b[0m\u001b[0;34m\u001b[0m\u001b[0;34m\u001b[0m\u001b[0m\n\u001b[1;32m    872\u001b[0m             \u001b[0;31m# Encoding\u001b[0m\u001b[0;34m\u001b[0m\u001b[0;34m\u001b[0m\u001b[0m\n\u001b[0;32m--> 873\u001b[0;31m             handle = open(\n\u001b[0m\u001b[1;32m    874\u001b[0m                 \u001b[0mhandle\u001b[0m\u001b[0;34m,\u001b[0m\u001b[0;34m\u001b[0m\u001b[0;34m\u001b[0m\u001b[0m\n\u001b[1;32m    875\u001b[0m                 \u001b[0mioargs\u001b[0m\u001b[0;34m.\u001b[0m\u001b[0mmode\u001b[0m\u001b[0;34m,\u001b[0m\u001b[0;34m\u001b[0m\u001b[0;34m\u001b[0m\u001b[0m\n",
      "\u001b[0;31mFileNotFoundError\u001b[0m: [Errno 2] No such file or directory: 'final.csv'"
     ]
    }
   ],
   "source": [
    "df = pd.read_csv('final.csv',low_memory=False)\n",
    "df = df.drop(['Unnamed: 0', 'Year', 'DepartureDelayGroups', 'TaxiOut', 'WheelsOff', 'WheelsOn', 'TaxiIn', 'DivAirportLandings', 'wpgt', 'tsun'], axis = 1)"
   ]
  },
  {
   "cell_type": "code",
   "execution_count": null,
   "id": "9a5663de-7d41-43e4-8812-e0284dde31aa",
   "metadata": {
    "id": "9a5663de-7d41-43e4-8812-e0284dde31aa",
    "outputId": "a0b916f6-bac4-4658-b32e-41b203f10edb"
   },
   "outputs": [
    {
     "data": {
      "text/plain": [
       "Index(['FlightDate', 'DOT_ID_Reporting_Airline', 'Tail_Number',\n",
       "       'Flight_Number_Reporting_Airline', 'OriginAirportID', 'OriginCityName',\n",
       "       'OriginWac', 'DestAirportID', 'DestCityName', 'DestWac', 'CRSDepTime',\n",
       "       'DepTime', 'DepDelayMinutes', 'CRSArrTime', 'ArrTime',\n",
       "       'ArrDelayMinutes', 'Diverted', 'CRSElapsedTime', 'ActualElapsedTime',\n",
       "       'AirTime', 'Flights', 'Distance', 'CarrierDelay', 'WeatherDelay',\n",
       "       'NASDelay', 'SecurityDelay', 'LateAircraftDelay',\n",
       "       'CancellationCode_encoded', 'index', 'tavg', 'tmin', 'tmax', 'prcp',\n",
       "       'snow', 'wdir', 'wspd', 'pres'],\n",
       "      dtype='object')"
      ]
     },
     "execution_count": 118,
     "metadata": {},
     "output_type": "execute_result"
    }
   ],
   "source": [
    "df.columns"
   ]
  },
  {
   "cell_type": "code",
   "execution_count": null,
   "id": "a367b22e-2e7b-4ea5-8d0d-21aa169a6c98",
   "metadata": {
    "id": "a367b22e-2e7b-4ea5-8d0d-21aa169a6c98"
   },
   "outputs": [],
   "source": [
    "df = df.drop(['index'], axis = 1)"
   ]
  },
  {
   "cell_type": "code",
   "execution_count": null,
   "id": "5ec2990c-1497-41ce-928b-6afda50d92f3",
   "metadata": {
    "id": "5ec2990c-1497-41ce-928b-6afda50d92f3"
   },
   "outputs": [],
   "source": [
    "grouped = df.groupby(['FlightDate', 'OriginCityName'])\n",
    "\n",
    "# Fill NaN in Col1 with the mean of matching groups\n",
    "for col in ['tavg', 'tmin', 'tmax', 'prcp', 'snow', 'wdir', 'wspd', 'pres']:\n",
    "    df[col] = grouped[col].transform(lambda x: x.fillna(x.mean()))"
   ]
  },
  {
   "cell_type": "code",
   "execution_count": null,
   "id": "a8c61b45-460f-41c8-a4dd-14096cac9c7e",
   "metadata": {
    "id": "a8c61b45-460f-41c8-a4dd-14096cac9c7e",
    "outputId": "062992ff-55f2-4668-dcc2-5a5d01ad9e73"
   },
   "outputs": [
    {
     "data": {
      "text/plain": [
       "FlightDate                              0\n",
       "DOT_ID_Reporting_Airline                0\n",
       "Tail_Number                          1989\n",
       "Flight_Number_Reporting_Airline         0\n",
       "OriginAirportID                         0\n",
       "OriginCityName                          0\n",
       "OriginWac                               0\n",
       "DestAirportID                           0\n",
       "DestCityName                            0\n",
       "DestWac                                 0\n",
       "CRSDepTime                              0\n",
       "DepTime                              9945\n",
       "DepDelayMinutes                      9953\n",
       "CRSArrTime                              0\n",
       "ArrTime                             10419\n",
       "ArrDelayMinutes                     11676\n",
       "Diverted                                0\n",
       "CRSElapsedTime                          0\n",
       "ActualElapsedTime                   11676\n",
       "AirTime                             11676\n",
       "Flights                                 0\n",
       "Distance                                0\n",
       "CarrierDelay                       431997\n",
       "WeatherDelay                       431997\n",
       "NASDelay                           431997\n",
       "SecurityDelay                      431997\n",
       "LateAircraftDelay                  431997\n",
       "CancellationCode_encoded                0\n",
       "tavg                                    1\n",
       "tmin                                    0\n",
       "tmax                                    0\n",
       "prcp                                   12\n",
       "snow                                14059\n",
       "wdir                                   16\n",
       "wspd                                    0\n",
       "pres                                   21\n",
       "dtype: int64"
      ]
     },
     "execution_count": 123,
     "metadata": {},
     "output_type": "execute_result"
    }
   ],
   "source": [
    "df.isna().sum()"
   ]
  },
  {
   "cell_type": "code",
   "execution_count": null,
   "id": "ec8709dc-4404-4e12-92ed-83379ef4433e",
   "metadata": {
    "id": "ec8709dc-4404-4e12-92ed-83379ef4433e",
    "outputId": "1cc6f3ef-c4f1-44de-c0f3-baf4fdd56764"
   },
   "outputs": [
    {
     "data": {
      "text/html": [
       "<div>\n",
       "<style scoped>\n",
       "    .dataframe tbody tr th:only-of-type {\n",
       "        vertical-align: middle;\n",
       "    }\n",
       "\n",
       "    .dataframe tbody tr th {\n",
       "        vertical-align: top;\n",
       "    }\n",
       "\n",
       "    .dataframe thead th {\n",
       "        text-align: right;\n",
       "    }\n",
       "</style>\n",
       "<table border=\"1\" class=\"dataframe\">\n",
       "  <thead>\n",
       "    <tr style=\"text-align: right;\">\n",
       "      <th></th>\n",
       "      <th>FlightDate</th>\n",
       "      <th>DOT_ID_Reporting_Airline</th>\n",
       "      <th>Tail_Number</th>\n",
       "      <th>Flight_Number_Reporting_Airline</th>\n",
       "      <th>OriginAirportID</th>\n",
       "      <th>OriginCityName</th>\n",
       "      <th>OriginWac</th>\n",
       "      <th>DestAirportID</th>\n",
       "      <th>DestCityName</th>\n",
       "      <th>DestWac</th>\n",
       "      <th>...</th>\n",
       "      <th>SecurityDelay</th>\n",
       "      <th>LateAircraftDelay</th>\n",
       "      <th>CancellationCode_encoded</th>\n",
       "      <th>tavg</th>\n",
       "      <th>tmin</th>\n",
       "      <th>tmax</th>\n",
       "      <th>prcp</th>\n",
       "      <th>wdir</th>\n",
       "      <th>wspd</th>\n",
       "      <th>pres</th>\n",
       "    </tr>\n",
       "  </thead>\n",
       "  <tbody>\n",
       "    <tr>\n",
       "      <th>4</th>\n",
       "      <td>2024-01-31</td>\n",
       "      <td>20452</td>\n",
       "      <td>N642RW</td>\n",
       "      <td>3493</td>\n",
       "      <td>12264</td>\n",
       "      <td>Washington, DC</td>\n",
       "      <td>38</td>\n",
       "      <td>10785</td>\n",
       "      <td>Burlington, VT</td>\n",
       "      <td>16</td>\n",
       "      <td>...</td>\n",
       "      <td>0.0</td>\n",
       "      <td>0.0</td>\n",
       "      <td>0</td>\n",
       "      <td>4.9</td>\n",
       "      <td>2.8</td>\n",
       "      <td>6.7</td>\n",
       "      <td>0.0</td>\n",
       "      <td>33.0</td>\n",
       "      <td>6.8</td>\n",
       "      <td>1019.2</td>\n",
       "    </tr>\n",
       "    <tr>\n",
       "      <th>5</th>\n",
       "      <td>2024-01-15</td>\n",
       "      <td>19790</td>\n",
       "      <td>N590NW</td>\n",
       "      <td>1204</td>\n",
       "      <td>11433</td>\n",
       "      <td>Detroit, MI</td>\n",
       "      <td>43</td>\n",
       "      <td>14635</td>\n",
       "      <td>Fort Myers, FL</td>\n",
       "      <td>33</td>\n",
       "      <td>...</td>\n",
       "      <td>0.0</td>\n",
       "      <td>58.0</td>\n",
       "      <td>0</td>\n",
       "      <td>-15.3</td>\n",
       "      <td>-18.5</td>\n",
       "      <td>-11.9</td>\n",
       "      <td>0.0</td>\n",
       "      <td>234.0</td>\n",
       "      <td>21.8</td>\n",
       "      <td>1023.6</td>\n",
       "    </tr>\n",
       "    <tr>\n",
       "      <th>7</th>\n",
       "      <td>2024-01-05</td>\n",
       "      <td>20368</td>\n",
       "      <td>333NV</td>\n",
       "      <td>292</td>\n",
       "      <td>14262</td>\n",
       "      <td>Palm Springs, CA</td>\n",
       "      <td>91</td>\n",
       "      <td>10666</td>\n",
       "      <td>Bellingham, WA</td>\n",
       "      <td>93</td>\n",
       "      <td>...</td>\n",
       "      <td>0.0</td>\n",
       "      <td>1.0</td>\n",
       "      <td>0</td>\n",
       "      <td>13.8</td>\n",
       "      <td>5.6</td>\n",
       "      <td>21.7</td>\n",
       "      <td>0.0</td>\n",
       "      <td>326.0</td>\n",
       "      <td>8.5</td>\n",
       "      <td>1020.4</td>\n",
       "    </tr>\n",
       "    <tr>\n",
       "      <th>10</th>\n",
       "      <td>2024-01-13</td>\n",
       "      <td>19790</td>\n",
       "      <td>N921AT</td>\n",
       "      <td>2459</td>\n",
       "      <td>12197</td>\n",
       "      <td>White Plains, NY</td>\n",
       "      <td>22</td>\n",
       "      <td>14027</td>\n",
       "      <td>West Palm Beach/Palm Beach, FL</td>\n",
       "      <td>33</td>\n",
       "      <td>...</td>\n",
       "      <td>0.0</td>\n",
       "      <td>0.0</td>\n",
       "      <td>0</td>\n",
       "      <td>7.9</td>\n",
       "      <td>0.6</td>\n",
       "      <td>13.9</td>\n",
       "      <td>35.3</td>\n",
       "      <td>226.0</td>\n",
       "      <td>21.8</td>\n",
       "      <td>995.3</td>\n",
       "    </tr>\n",
       "    <tr>\n",
       "      <th>17</th>\n",
       "      <td>2024-01-09</td>\n",
       "      <td>19393</td>\n",
       "      <td>N255WN</td>\n",
       "      <td>1670</td>\n",
       "      <td>14986</td>\n",
       "      <td>Sarasota/Bradenton, FL</td>\n",
       "      <td>33</td>\n",
       "      <td>11259</td>\n",
       "      <td>Dallas, TX</td>\n",
       "      <td>74</td>\n",
       "      <td>...</td>\n",
       "      <td>0.0</td>\n",
       "      <td>366.0</td>\n",
       "      <td>0</td>\n",
       "      <td>21.2</td>\n",
       "      <td>17.2</td>\n",
       "      <td>25.0</td>\n",
       "      <td>7.2</td>\n",
       "      <td>178.0</td>\n",
       "      <td>30.8</td>\n",
       "      <td>1010.2</td>\n",
       "    </tr>\n",
       "    <tr>\n",
       "      <th>...</th>\n",
       "      <td>...</td>\n",
       "      <td>...</td>\n",
       "      <td>...</td>\n",
       "      <td>...</td>\n",
       "      <td>...</td>\n",
       "      <td>...</td>\n",
       "      <td>...</td>\n",
       "      <td>...</td>\n",
       "      <td>...</td>\n",
       "      <td>...</td>\n",
       "      <td>...</td>\n",
       "      <td>...</td>\n",
       "      <td>...</td>\n",
       "      <td>...</td>\n",
       "      <td>...</td>\n",
       "      <td>...</td>\n",
       "      <td>...</td>\n",
       "      <td>...</td>\n",
       "      <td>...</td>\n",
       "      <td>...</td>\n",
       "      <td>...</td>\n",
       "    </tr>\n",
       "    <tr>\n",
       "      <th>546904</th>\n",
       "      <td>2022-12-24</td>\n",
       "      <td>20304</td>\n",
       "      <td>N730EV</td>\n",
       "      <td>3226</td>\n",
       "      <td>13930</td>\n",
       "      <td>Chicago, IL</td>\n",
       "      <td>41</td>\n",
       "      <td>12197</td>\n",
       "      <td>White Plains, NY</td>\n",
       "      <td>22</td>\n",
       "      <td>...</td>\n",
       "      <td>0.0</td>\n",
       "      <td>0.0</td>\n",
       "      <td>0</td>\n",
       "      <td>22.9</td>\n",
       "      <td>20.0</td>\n",
       "      <td>27.0</td>\n",
       "      <td>0.2</td>\n",
       "      <td>186.0</td>\n",
       "      <td>16.9</td>\n",
       "      <td>1015.3</td>\n",
       "    </tr>\n",
       "    <tr>\n",
       "      <th>546907</th>\n",
       "      <td>2022-12-01</td>\n",
       "      <td>20397</td>\n",
       "      <td>N592NN</td>\n",
       "      <td>5087</td>\n",
       "      <td>11278</td>\n",
       "      <td>Washington, DC</td>\n",
       "      <td>38</td>\n",
       "      <td>13198</td>\n",
       "      <td>Kansas City, MO</td>\n",
       "      <td>64</td>\n",
       "      <td>...</td>\n",
       "      <td>0.0</td>\n",
       "      <td>21.0</td>\n",
       "      <td>0</td>\n",
       "      <td>-7.5</td>\n",
       "      <td>-20.5</td>\n",
       "      <td>4.4</td>\n",
       "      <td>4.1</td>\n",
       "      <td>237.0</td>\n",
       "      <td>29.2</td>\n",
       "      <td>1002.0</td>\n",
       "    </tr>\n",
       "    <tr>\n",
       "      <th>546917</th>\n",
       "      <td>2022-12-29</td>\n",
       "      <td>20416</td>\n",
       "      <td>N921NK</td>\n",
       "      <td>2410</td>\n",
       "      <td>11618</td>\n",
       "      <td>Newark, NJ</td>\n",
       "      <td>21</td>\n",
       "      <td>13796</td>\n",
       "      <td>Oakland, CA</td>\n",
       "      <td>91</td>\n",
       "      <td>...</td>\n",
       "      <td>0.0</td>\n",
       "      <td>14.0</td>\n",
       "      <td>0</td>\n",
       "      <td>19.7</td>\n",
       "      <td>16.6</td>\n",
       "      <td>23.1</td>\n",
       "      <td>0.0</td>\n",
       "      <td>43.0</td>\n",
       "      <td>17.1</td>\n",
       "      <td>1023.8</td>\n",
       "    </tr>\n",
       "    <tr>\n",
       "      <th>546921</th>\n",
       "      <td>2022-12-23</td>\n",
       "      <td>19790</td>\n",
       "      <td>N897DN</td>\n",
       "      <td>2554</td>\n",
       "      <td>12892</td>\n",
       "      <td>Los Angeles, CA</td>\n",
       "      <td>91</td>\n",
       "      <td>13303</td>\n",
       "      <td>Miami, FL</td>\n",
       "      <td>33</td>\n",
       "      <td>...</td>\n",
       "      <td>0.0</td>\n",
       "      <td>32.0</td>\n",
       "      <td>0</td>\n",
       "      <td>23.1</td>\n",
       "      <td>21.0</td>\n",
       "      <td>27.0</td>\n",
       "      <td>0.1</td>\n",
       "      <td>170.0</td>\n",
       "      <td>14.1</td>\n",
       "      <td>1021.4</td>\n",
       "    </tr>\n",
       "    <tr>\n",
       "      <th>546928</th>\n",
       "      <td>2022-12-20</td>\n",
       "      <td>19690</td>\n",
       "      <td>N213HA</td>\n",
       "      <td>57</td>\n",
       "      <td>14679</td>\n",
       "      <td>San Diego, CA</td>\n",
       "      <td>91</td>\n",
       "      <td>13830</td>\n",
       "      <td>Kahului, HI</td>\n",
       "      <td>2</td>\n",
       "      <td>...</td>\n",
       "      <td>0.0</td>\n",
       "      <td>0.0</td>\n",
       "      <td>0</td>\n",
       "      <td>10.5</td>\n",
       "      <td>5.0</td>\n",
       "      <td>14.0</td>\n",
       "      <td>0.0</td>\n",
       "      <td>95.0</td>\n",
       "      <td>18.3</td>\n",
       "      <td>1025.7</td>\n",
       "    </tr>\n",
       "  </tbody>\n",
       "</table>\n",
       "<p>114946 rows × 35 columns</p>\n",
       "</div>"
      ],
      "text/plain": [
       "        FlightDate  DOT_ID_Reporting_Airline Tail_Number  \\\n",
       "4       2024-01-31                     20452      N642RW   \n",
       "5       2024-01-15                     19790      N590NW   \n",
       "7       2024-01-05                     20368       333NV   \n",
       "10      2024-01-13                     19790      N921AT   \n",
       "17      2024-01-09                     19393      N255WN   \n",
       "...            ...                       ...         ...   \n",
       "546904  2022-12-24                     20304      N730EV   \n",
       "546907  2022-12-01                     20397      N592NN   \n",
       "546917  2022-12-29                     20416      N921NK   \n",
       "546921  2022-12-23                     19790      N897DN   \n",
       "546928  2022-12-20                     19690      N213HA   \n",
       "\n",
       "        Flight_Number_Reporting_Airline  OriginAirportID  \\\n",
       "4                                  3493            12264   \n",
       "5                                  1204            11433   \n",
       "7                                   292            14262   \n",
       "10                                 2459            12197   \n",
       "17                                 1670            14986   \n",
       "...                                 ...              ...   \n",
       "546904                             3226            13930   \n",
       "546907                             5087            11278   \n",
       "546917                             2410            11618   \n",
       "546921                             2554            12892   \n",
       "546928                               57            14679   \n",
       "\n",
       "                OriginCityName  OriginWac  DestAirportID  \\\n",
       "4               Washington, DC         38          10785   \n",
       "5                  Detroit, MI         43          14635   \n",
       "7             Palm Springs, CA         91          10666   \n",
       "10            White Plains, NY         22          14027   \n",
       "17      Sarasota/Bradenton, FL         33          11259   \n",
       "...                        ...        ...            ...   \n",
       "546904             Chicago, IL         41          12197   \n",
       "546907          Washington, DC         38          13198   \n",
       "546917              Newark, NJ         21          13796   \n",
       "546921         Los Angeles, CA         91          13303   \n",
       "546928           San Diego, CA         91          13830   \n",
       "\n",
       "                          DestCityName  DestWac  ...  SecurityDelay  \\\n",
       "4                       Burlington, VT       16  ...            0.0   \n",
       "5                       Fort Myers, FL       33  ...            0.0   \n",
       "7                       Bellingham, WA       93  ...            0.0   \n",
       "10      West Palm Beach/Palm Beach, FL       33  ...            0.0   \n",
       "17                          Dallas, TX       74  ...            0.0   \n",
       "...                                ...      ...  ...            ...   \n",
       "546904                White Plains, NY       22  ...            0.0   \n",
       "546907                 Kansas City, MO       64  ...            0.0   \n",
       "546917                     Oakland, CA       91  ...            0.0   \n",
       "546921                       Miami, FL       33  ...            0.0   \n",
       "546928                     Kahului, HI        2  ...            0.0   \n",
       "\n",
       "        LateAircraftDelay  CancellationCode_encoded  tavg  tmin  tmax  prcp  \\\n",
       "4                     0.0                         0   4.9   2.8   6.7   0.0   \n",
       "5                    58.0                         0 -15.3 -18.5 -11.9   0.0   \n",
       "7                     1.0                         0  13.8   5.6  21.7   0.0   \n",
       "10                    0.0                         0   7.9   0.6  13.9  35.3   \n",
       "17                  366.0                         0  21.2  17.2  25.0   7.2   \n",
       "...                   ...                       ...   ...   ...   ...   ...   \n",
       "546904                0.0                         0  22.9  20.0  27.0   0.2   \n",
       "546907               21.0                         0  -7.5 -20.5   4.4   4.1   \n",
       "546917               14.0                         0  19.7  16.6  23.1   0.0   \n",
       "546921               32.0                         0  23.1  21.0  27.0   0.1   \n",
       "546928                0.0                         0  10.5   5.0  14.0   0.0   \n",
       "\n",
       "         wdir  wspd    pres  \n",
       "4        33.0   6.8  1019.2  \n",
       "5       234.0  21.8  1023.6  \n",
       "7       326.0   8.5  1020.4  \n",
       "10      226.0  21.8   995.3  \n",
       "17      178.0  30.8  1010.2  \n",
       "...       ...   ...     ...  \n",
       "546904  186.0  16.9  1015.3  \n",
       "546907  237.0  29.2  1002.0  \n",
       "546917   43.0  17.1  1023.8  \n",
       "546921  170.0  14.1  1021.4  \n",
       "546928   95.0  18.3  1025.7  \n",
       "\n",
       "[114946 rows x 35 columns]"
      ]
     },
     "execution_count": 124,
     "metadata": {},
     "output_type": "execute_result"
    }
   ],
   "source": [
    "df = df.drop(['snow'], axis=1)\n",
    "df = df.dropna()\n",
    "df"
   ]
  },
  {
   "cell_type": "code",
   "execution_count": null,
   "id": "f17d0e66-8aba-4004-a792-a45880ff3fd1",
   "metadata": {
    "id": "f17d0e66-8aba-4004-a792-a45880ff3fd1"
   },
   "outputs": [],
   "source": [
    "df['DateObjects'] = pd.to_datetime(df['FlightDate'])"
   ]
  },
  {
   "cell_type": "code",
   "execution_count": null,
   "id": "96efb8ca-85ce-4a00-ad60-559d5347f8a0",
   "metadata": {
    "id": "96efb8ca-85ce-4a00-ad60-559d5347f8a0",
    "outputId": "38682d9d-9e66-43a0-8ada-619c352db598"
   },
   "outputs": [
    {
     "data": {
      "text/plain": [
       "Index(['FlightDate', 'DOT_ID_Reporting_Airline', 'Tail_Number',\n",
       "       'Flight_Number_Reporting_Airline', 'OriginAirportID', 'OriginCityName',\n",
       "       'OriginWac', 'DestAirportID', 'DestCityName', 'DestWac', 'CRSDepTime',\n",
       "       'DepTime', 'DepDelayMinutes', 'CRSArrTime', 'ArrTime',\n",
       "       'ArrDelayMinutes', 'Diverted', 'CRSElapsedTime', 'ActualElapsedTime',\n",
       "       'AirTime', 'Flights', 'Distance', 'CarrierDelay', 'WeatherDelay',\n",
       "       'NASDelay', 'SecurityDelay', 'LateAircraftDelay',\n",
       "       'CancellationCode_encoded', 'tavg', 'tmin', 'tmax', 'prcp', 'wdir',\n",
       "       'wspd', 'pres', 'DateObjects'],\n",
       "      dtype='object')"
      ]
     },
     "execution_count": 126,
     "metadata": {},
     "output_type": "execute_result"
    }
   ],
   "source": [
    "df.columns"
   ]
  },
  {
   "cell_type": "code",
   "execution_count": null,
   "id": "1b967fee-b3e6-4eaa-90ca-171a5142ddd1",
   "metadata": {
    "id": "1b967fee-b3e6-4eaa-90ca-171a5142ddd1"
   },
   "outputs": [],
   "source": [
    "df = df.sort_values(by='DateObjects')"
   ]
  },
  {
   "cell_type": "code",
   "execution_count": null,
   "id": "e40d5376-120e-4160-b132-6171bc161de4",
   "metadata": {
    "id": "e40d5376-120e-4160-b132-6171bc161de4"
   },
   "outputs": [],
   "source": [
    "df = df.drop(['FlightDate'], axis = 1)\n",
    "df['Year'] = df['DateObjects'].dt.year\n",
    "df['Month'] = df['DateObjects'].dt.month\n",
    "df['Day'] = df['DateObjects'].dt.day\n",
    "df['Quarter'] = df['DateObjects'].dt.quarter\n",
    "df['Week'] = df['DateObjects'].dt.isocalendar().week"
   ]
  },
  {
   "cell_type": "code",
   "execution_count": null,
   "id": "5f5c3118-d641-4685-871d-d157943fcc5d",
   "metadata": {
    "id": "5f5c3118-d641-4685-871d-d157943fcc5d"
   },
   "outputs": [],
   "source": [
    "cut_off_date = pd.to_datetime('2024-01-01')\n",
    "\n",
    "# Split the DataFrame into training and testing sets\n",
    "train_df = df[df['DateObjects'] < cut_off_date]  # Training data\n",
    "test_df = df[df['DateObjects'] >= cut_off_date]"
   ]
  },
  {
   "cell_type": "code",
   "execution_count": null,
   "id": "a5017735-98fa-4267-bd25-a05365fd252e",
   "metadata": {
    "id": "a5017735-98fa-4267-bd25-a05365fd252e",
    "outputId": "811401bd-f197-4929-fc1b-22376f3333cd"
   },
   "outputs": [
    {
     "data": {
      "text/plain": [
       "Index(['DOT_ID_Reporting_Airline', 'Tail_Number',\n",
       "       'Flight_Number_Reporting_Airline', 'OriginAirportID', 'OriginCityName',\n",
       "       'OriginWac', 'DestAirportID', 'DestCityName', 'DestWac', 'CRSDepTime',\n",
       "       'DepTime', 'DepDelayMinutes', 'CRSArrTime', 'ArrTime',\n",
       "       'ArrDelayMinutes', 'Diverted', 'CRSElapsedTime', 'ActualElapsedTime',\n",
       "       'AirTime', 'Flights', 'Distance', 'CarrierDelay', 'WeatherDelay',\n",
       "       'NASDelay', 'SecurityDelay', 'LateAircraftDelay',\n",
       "       'CancellationCode_encoded', 'tavg', 'tmin', 'tmax', 'prcp', 'wdir',\n",
       "       'wspd', 'pres', 'DateObjects', 'Year', 'Month', 'Day', 'Quarter',\n",
       "       'Week'],\n",
       "      dtype='object')"
      ]
     },
     "execution_count": 130,
     "metadata": {},
     "output_type": "execute_result"
    }
   ],
   "source": [
    "df.columns"
   ]
  },
  {
   "cell_type": "code",
   "execution_count": null,
   "id": "fe7ca561-34a8-4444-8778-605c734b1453",
   "metadata": {
    "id": "fe7ca561-34a8-4444-8778-605c734b1453"
   },
   "outputs": [],
   "source": [
    "test_df=test_df.drop(columns=['DateObjects','OriginWac','DestWac','DepTime', 'DepDelayMinutes', 'ArrTime',\n",
    "       'ArrDelayMinutes','ActualElapsedTime'])\n",
    "train_df=train_df.drop(columns=['DateObjects','OriginWac','DestWac','DepTime', 'DepDelayMinutes', 'ArrTime',\n",
    "       'ArrDelayMinutes','ActualElapsedTime'])"
   ]
  },
  {
   "cell_type": "code",
   "execution_count": null,
   "id": "e147bf80-8a56-4705-a832-e6a3befa05eb",
   "metadata": {
    "id": "e147bf80-8a56-4705-a832-e6a3befa05eb"
   },
   "outputs": [],
   "source": [
    "train_df=train_df.drop(columns=['AirTime'])"
   ]
  },
  {
   "cell_type": "code",
   "execution_count": null,
   "id": "f9b2f12d-0db0-4c50-887a-abbca2278f38",
   "metadata": {
    "id": "f9b2f12d-0db0-4c50-887a-abbca2278f38"
   },
   "outputs": [],
   "source": [
    "test_df=test_df.drop(columns=['AirTime'])"
   ]
  },
  {
   "cell_type": "code",
   "execution_count": null,
   "id": "47455104-e7d7-4565-a19b-95495c7c1cfd",
   "metadata": {
    "id": "47455104-e7d7-4565-a19b-95495c7c1cfd",
    "outputId": "5d9ce735-347d-49bc-b2cf-3e3559e4446c"
   },
   "outputs": [
    {
     "data": {
      "text/plain": [
       "Index(['DOT_ID_Reporting_Airline', 'Tail_Number',\n",
       "       'Flight_Number_Reporting_Airline', 'OriginAirportID', 'OriginCityName',\n",
       "       'DestAirportID', 'DestCityName', 'CRSDepTime', 'CRSArrTime', 'Diverted',\n",
       "       'CRSElapsedTime', 'Flights', 'Distance', 'CarrierDelay', 'WeatherDelay',\n",
       "       'NASDelay', 'SecurityDelay', 'LateAircraftDelay',\n",
       "       'CancellationCode_encoded', 'tavg', 'tmin', 'tmax', 'prcp', 'wdir',\n",
       "       'wspd', 'pres', 'Year', 'Month', 'Day', 'Quarter', 'Week'],\n",
       "      dtype='object')"
      ]
     },
     "execution_count": 134,
     "metadata": {},
     "output_type": "execute_result"
    }
   ],
   "source": [
    "train_df.columns"
   ]
  },
  {
   "cell_type": "code",
   "execution_count": null,
   "id": "d0872148-84e9-423e-8387-6e385c3bcdd3",
   "metadata": {
    "id": "d0872148-84e9-423e-8387-6e385c3bcdd3"
   },
   "outputs": [],
   "source": [
    "import torch\n",
    "import torch.nn as nn\n",
    "import torch.optim as optim\n",
    "import numpy as np\n",
    "from sklearn.preprocessing import LabelEncoder, StandardScaler\n",
    "from torch.utils.data import DataLoader, Dataset\n",
    "from sklearn.metrics import mean_absolute_error, mean_squared_error"
   ]
  },
  {
   "cell_type": "code",
   "execution_count": null,
   "id": "6d87acc9-daa6-42ec-8a3a-4d187e031da6",
   "metadata": {
    "id": "6d87acc9-daa6-42ec-8a3a-4d187e031da6"
   },
   "outputs": [],
   "source": [
    "def prepare_data(df_new):\n",
    "    # Define input and output features\n",
    "    input_features = ['Year', 'DOT_ID_Reporting_Airline', 'Tail_Number', 'Flight_Number_Reporting_Airline',\n",
    "                      'OriginAirportID', 'OriginCityName', 'DestAirportID', 'DestCityName', 'CRSDepTime',\n",
    "                      'CRSArrTime', 'CRSElapsedTime', 'Flights', 'Distance', 'tavg', 'tmin', 'tmax', 'prcp',\n",
    "                      'wdir', 'wspd', 'pres', 'Month', 'Day', 'Quarter', 'Week']\n",
    "    output_features = ['Diverted', 'CarrierDelay', 'WeatherDelay', 'NASDelay', 'SecurityDelay',\n",
    "                       'LateAircraftDelay', 'CancellationCode_encoded']\n",
    "\n",
    "    # Separate categorical and continuous columns\n",
    "    categorical_cols = ['Tail_Number', 'OriginCityName', 'DestCityName']\n",
    "    continuous_cols = [col for col in input_features if col not in categorical_cols]\n",
    "\n",
    "    # Handle missing values\n",
    "    df_new = df_new.copy()\n",
    "    for col in continuous_cols:\n",
    "        df_new[col] = df_new[col].fillna(df_new[col].mean())\n",
    "    for col in categorical_cols:\n",
    "        df_new[col] = df_new[col].fillna('MISSING')\n",
    "    for col in output_features:\n",
    "        df_new[col] = df_new[col].fillna(0)\n",
    "\n",
    "    # Process categorical features\n",
    "    label_encoders = {}\n",
    "    categorical_data = []\n",
    "    vocab_sizes = []\n",
    "\n",
    "    for col in categorical_cols:\n",
    "        le = LabelEncoder()\n",
    "        df_new[col] = le.fit_transform(df_new[col].astype(str))\n",
    "        label_encoders[col] = le\n",
    "        categorical_data.append(df_new[col].values)\n",
    "        vocab_sizes.append(len(le.classes_) + 1)  # +1 for padding\n",
    "\n",
    "    # Convert categorical data to tensor format\n",
    "    categorical_tensor = torch.tensor(np.stack(categorical_data, axis=1), dtype=torch.long)\n",
    "\n",
    "    # Normalize continuous features\n",
    "    scaler = StandardScaler()\n",
    "    continuous_tensor = torch.tensor(\n",
    "        scaler.fit_transform(df_new[continuous_cols].values),\n",
    "        dtype=torch.float32\n",
    "    )\n",
    "\n",
    "    # Convert output features to tensor\n",
    "    output_tensor = torch.tensor(df_new[output_features].values, dtype=torch.float32)\n",
    "\n",
    "    return continuous_tensor, categorical_tensor, output_tensor, continuous_cols, categorical_cols, vocab_sizes, label_encoders\n"
   ]
  },
  {
   "cell_type": "code",
   "execution_count": null,
   "id": "58695576-249b-4fa3-b953-3c02e61652e9",
   "metadata": {
    "id": "58695576-249b-4fa3-b953-3c02e61652e9"
   },
   "outputs": [],
   "source": [
    "class CNNFlightDelayModel(nn.Module):\n",
    "    def __init__(self, continuous_dim, vocab_sizes, hidden_dim, num_outputs, embedding_dim=8):\n",
    "        super(CNNFlightDelayModel, self).__init__()\n",
    "\n",
    "        # Embeddings for categorical features\n",
    "        self.embeddings = nn.ModuleList([\n",
    "            nn.Embedding(vocab_size, embedding_dim, padding_idx=0)\n",
    "            for vocab_size in vocab_sizes\n",
    "        ])\n",
    "\n",
    "        # Calculate total embedding dimension\n",
    "        total_embedding_dim = len(vocab_sizes) * embedding_dim\n",
    "\n",
    "        # 1D Convolutional layers\n",
    "        self.conv1 = nn.Conv1d(in_channels=continuous_dim + total_embedding_dim, out_channels=hidden_dim, kernel_size=3, padding=1)\n",
    "        self.conv2 = nn.Conv1d(in_channels=hidden_dim, out_channels=hidden_dim // 2, kernel_size=3, padding=1)\n",
    "\n",
    "        # Fully connected layer\n",
    "        self.fc = nn.Linear(hidden_dim // 2, num_outputs)\n",
    "\n",
    "    def forward(self, continuous_x, categorical_x):\n",
    "        # Process categorical features\n",
    "        embeddings = [embedding_layer(categorical_x[:, i]) for i, embedding_layer in enumerate(self.embeddings)]\n",
    "\n",
    "        # Concatenate all embeddings\n",
    "        embedded_categorical = torch.cat(embeddings, dim=1)\n",
    "\n",
    "        # Concatenate with continuous features\n",
    "        combined_input = torch.cat([continuous_x, embedded_categorical], dim=1).unsqueeze(2)  # Add channel dimension\n",
    "\n",
    "        # Pass through convolutional layers\n",
    "        conv_out = self.conv1(combined_input)\n",
    "        conv_out = nn.ReLU()(conv_out)\n",
    "        conv_out = self.conv2(conv_out)\n",
    "        conv_out = nn.ReLU()(conv_out)\n",
    "\n",
    "        # Flatten for fully connected layer\n",
    "        conv_out = conv_out.view(conv_out.size(0), -1)\n",
    "\n",
    "        # Output layer\n",
    "        outputs = self.fc(conv_out)\n",
    "        return outputs\n"
   ]
  },
  {
   "cell_type": "code",
   "execution_count": null,
   "id": "b0182f78-1825-4b64-8ef9-b9b625b276de",
   "metadata": {
    "id": "b0182f78-1825-4b64-8ef9-b9b625b276de"
   },
   "outputs": [],
   "source": [
    "class FlightDataset(Dataset):\n",
    "    def __init__(self, continuous_data, categorical_data, targets):\n",
    "        self.continuous_data = continuous_data\n",
    "        self.categorical_data = categorical_data\n",
    "        self.targets = targets\n",
    "\n",
    "    def __len__(self):\n",
    "        return len(self.targets)\n",
    "\n",
    "    def __getitem__(self, idx):\n",
    "        return (\n",
    "            self.continuous_data[idx],\n",
    "            self.categorical_data[idx],\n",
    "            self.targets[idx]\n",
    "        )"
   ]
  },
  {
   "cell_type": "code",
   "execution_count": null,
   "id": "347be75f-b54a-4680-a8ee-d7534c8a409d",
   "metadata": {
    "id": "347be75f-b54a-4680-a8ee-d7534c8a409d"
   },
   "outputs": [],
   "source": [
    "def train_model(model, train_loader, criterion, optimizer, device, num_epochs=25):\n",
    "    model.train()\n",
    "    for epoch in range(num_epochs):\n",
    "        total_loss = 0\n",
    "        for continuous_x, categorical_x, targets in train_loader:\n",
    "            continuous_x = continuous_x.to(device)\n",
    "            categorical_x = categorical_x.to(device)\n",
    "            targets = targets.to(device)\n",
    "\n",
    "            optimizer.zero_grad()\n",
    "            outputs = model(continuous_x, categorical_x)\n",
    "            loss = criterion(outputs, targets)\n",
    "            loss.backward()\n",
    "            optimizer.step()\n",
    "\n",
    "            total_loss += loss.item()\n",
    "\n",
    "        avg_loss = total_loss / len(train_loader)\n",
    "        print(f'Epoch [{epoch+1}/{num_epochs}], Average Loss: {avg_loss:.4f}')"
   ]
  },
  {
   "cell_type": "code",
   "execution_count": null,
   "id": "b81b174a-9c82-4794-b779-c799d0deaf08",
   "metadata": {
    "id": "b81b174a-9c82-4794-b779-c799d0deaf08"
   },
   "outputs": [],
   "source": [
    "def evaluate_model(model, test_loader, device):\n",
    "    model.eval()\n",
    "    predictions = []\n",
    "    actuals = []\n",
    "\n",
    "    with torch.no_grad():\n",
    "        for continuous_x, categorical_x, targets in test_loader:\n",
    "            continuous_x = continuous_x.to(device)\n",
    "            categorical_x = categorical_x.to(device)\n",
    "            outputs = model(continuous_x, categorical_x)\n",
    "            predictions.append(outputs.cpu().numpy())\n",
    "            actuals.append(targets.cpu().numpy())\n",
    "\n",
    "    predictions = np.concatenate(predictions)\n",
    "    actuals = np.concatenate(actuals)\n",
    "\n",
    "    # Calculate MAE and RMSE\n",
    "    mae = mean_absolute_error(actuals, predictions)\n",
    "    rmse = np.sqrt(mean_squared_error(actuals, predictions))\n",
    "    print(f'Mean Absolute Error (MAE): {mae:.4f}')\n",
    "    print(f'Root Mean Squared Error (RMSE): {rmse:.4f}')\n",
    "\n",
    "    return predictions, actuals, mae, rmse\n"
   ]
  },
  {
   "cell_type": "code",
   "execution_count": null,
   "id": "d32aee4c-12f0-458e-878f-043483ff7430",
   "metadata": {
    "id": "d32aee4c-12f0-458e-878f-043483ff7430"
   },
   "outputs": [],
   "source": [
    "def main_cnn(df_new, batch_size=64, hidden_dim=128, learning_rate=0.01, num_epochs=25, embedding_dim=8):\n",
    "    # Prepare data (using the same prepare_data function)\n",
    "    continuous_data, categorical_data, targets, continuous_cols, categorical_cols, vocab_sizes, label_encoders = prepare_data(df_new)\n",
    "\n",
    "    # Create dataset and dataloader\n",
    "    dataset = FlightDataset(continuous_data, categorical_data, targets)\n",
    "    train_loader = DataLoader(dataset, batch_size=batch_size, shuffle=True)\n",
    "\n",
    "    # Setup device\n",
    "    device = torch.device('cuda' if torch.cuda.is_available() else 'cpu')\n",
    "    print(f\"Using device: {device}\")\n",
    "\n",
    "    # Initialize CNN model\n",
    "    model = CNNFlightDelayModel(\n",
    "        continuous_dim=len(continuous_cols),\n",
    "        vocab_sizes=vocab_sizes,\n",
    "        hidden_dim=hidden_dim,\n",
    "        num_outputs=targets.shape[1],\n",
    "        embedding_dim=embedding_dim\n",
    "    ).to(device)\n",
    "\n",
    "    # Setup training\n",
    "    criterion = nn.MSELoss()\n",
    "    optimizer = optim.Adam(model.parameters(), lr=learning_rate)\n",
    "\n",
    "    # Train and evaluate\n",
    "    train_model(model, train_loader, criterion, optimizer, device, num_epochs)\n",
    "\n",
    "    # Evaluate model on the same loader (for simplicity; use separate loaders for train/test in practice)\n",
    "    predictions, actuals, mae, rmse = evaluate_model(model, train_loader, device)\n",
    "    print(f\"Final MAE: {mae:.4f}\")\n",
    "\n",
    "    sample_data, _, sample_targets = next(iter(train_loader))\n",
    "    sample_data = sample_data.to(device)\n",
    "\n",
    "    # SHAP explanations (using KernelExplainer due to model type)\n",
    "    def model_predict(data):\n",
    "        data = torch.tensor(data, dtype=torch.float32).to(device)\n",
    "        with torch.no_grad():\n",
    "            preds = model(data).cpu().numpy()\n",
    "        return preds\n",
    "\n",
    "    # KernelExplainer setup (KernelExplainer is model-agnostic, hence can be used here)\n",
    "    explainer = shap.DeepExplainer(model, sample_data.cpu().numpy())\n",
    "\n",
    "    # Calculate SHAP values\n",
    "    shap_values = explainer.shap_values(sample_data.cpu().numpy(), nsamples=100)\n",
    "\n",
    "    # Plot explanations for the first prediction\n",
    "    shap.initjs()\n",
    "    shap.force_plot(explainer.expected_value[0], shap_values[0], sample_data.cpu().numpy()[0])\n",
    "\n",
    "\n",
    "    return model, predictions, actuals"
   ]
  },
  {
   "cell_type": "code",
   "execution_count": null,
   "id": "5f87e434-7de1-464a-9ba4-193ec8ef43d1",
   "metadata": {
    "id": "5f87e434-7de1-464a-9ba4-193ec8ef43d1",
    "outputId": "482f6aba-b47c-4d9d-d6be-1a7d68afac98"
   },
   "outputs": [
    {
     "name": "stdout",
     "output_type": "stream",
     "text": [
      "Using device: cpu\n",
      "Epoch [1/25], Average Loss: 1630.1449\n",
      "Epoch [2/25], Average Loss: 1601.3180\n",
      "Epoch [3/25], Average Loss: 1560.4637\n",
      "Epoch [4/25], Average Loss: 1511.9534\n",
      "Epoch [5/25], Average Loss: 1451.6555\n",
      "Epoch [6/25], Average Loss: 1363.9164\n",
      "Epoch [7/25], Average Loss: 1275.9186\n",
      "Epoch [8/25], Average Loss: 1186.7931\n",
      "Epoch [9/25], Average Loss: 1102.8642\n",
      "Epoch [10/25], Average Loss: 1030.6245\n",
      "Epoch [11/25], Average Loss: 959.3210\n",
      "Epoch [12/25], Average Loss: 922.8868\n",
      "Epoch [13/25], Average Loss: 872.3222\n",
      "Epoch [14/25], Average Loss: 842.8817\n",
      "Epoch [15/25], Average Loss: 817.0049\n",
      "Epoch [16/25], Average Loss: 792.8978\n",
      "Epoch [17/25], Average Loss: 773.6443\n",
      "Epoch [18/25], Average Loss: 744.6529\n",
      "Epoch [19/25], Average Loss: 733.0222\n",
      "Epoch [20/25], Average Loss: 716.0733\n",
      "Epoch [21/25], Average Loss: 706.9033\n",
      "Epoch [22/25], Average Loss: 692.9000\n",
      "Epoch [23/25], Average Loss: 685.2252\n",
      "Epoch [24/25], Average Loss: 674.0138\n",
      "Epoch [25/25], Average Loss: 659.6665\n",
      "Mean Absolute Error (MAE): 9.0499\n",
      "Root Mean Squared Error (RMSE): 24.9646\n",
      "Final MAE: 9.0499\n",
      "Final RMSE: 24.9646\n"
     ]
    },
    {
     "ename": "TypeError",
     "evalue": "CNNFlightDelayModel.forward() missing 1 required positional argument: 'categorical_x'",
     "output_type": "error",
     "traceback": [
      "\u001b[1;31m---------------------------------------------------------------------------\u001b[0m",
      "\u001b[1;31mTypeError\u001b[0m                                 Traceback (most recent call last)",
      "Cell \u001b[1;32mIn[159], line 1\u001b[0m\n\u001b[1;32m----> 1\u001b[0m model, predictions, actuals \u001b[38;5;241m=\u001b[39m main_cnn(train_df)\n\u001b[0;32m      2\u001b[0m model, predictions, actuals \u001b[38;5;241m=\u001b[39m main_cnn(test_df)\n",
      "Cell \u001b[1;32mIn[157], line 45\u001b[0m, in \u001b[0;36mmain_cnn\u001b[1;34m(df_new, batch_size, hidden_dim, learning_rate, num_epochs, embedding_dim)\u001b[0m\n\u001b[0;32m     42\u001b[0m     \u001b[38;5;28;01mreturn\u001b[39;00m preds\n\u001b[0;32m     44\u001b[0m \u001b[38;5;66;03m# KernelExplainer setup (KernelExplainer is model-agnostic, hence can be used here)\u001b[39;00m\n\u001b[1;32m---> 45\u001b[0m explainer \u001b[38;5;241m=\u001b[39m shap\u001b[38;5;241m.\u001b[39mDeepExplainer(model, sample_data\u001b[38;5;241m.\u001b[39mcpu()\u001b[38;5;241m.\u001b[39mnumpy())\n\u001b[0;32m     47\u001b[0m \u001b[38;5;66;03m# Calculate SHAP values\u001b[39;00m\n\u001b[0;32m     48\u001b[0m shap_values \u001b[38;5;241m=\u001b[39m explainer\u001b[38;5;241m.\u001b[39mshap_values(sample_data\u001b[38;5;241m.\u001b[39mcpu()\u001b[38;5;241m.\u001b[39mnumpy(), nsamples\u001b[38;5;241m=\u001b[39m\u001b[38;5;241m100\u001b[39m)\n",
      "File \u001b[1;32m~\\anaconda\\Lib\\site-packages\\shap\\explainers\\_deep\\__init__.py:92\u001b[0m, in \u001b[0;36mDeepExplainer.__init__\u001b[1;34m(self, model, data, session, learning_phase_flags)\u001b[0m\n\u001b[0;32m     90\u001b[0m     \u001b[38;5;28mself\u001b[39m\u001b[38;5;241m.\u001b[39mexplainer \u001b[38;5;241m=\u001b[39m TFDeep(model, data, session, learning_phase_flags)\n\u001b[0;32m     91\u001b[0m \u001b[38;5;28;01melif\u001b[39;00m framework \u001b[38;5;241m==\u001b[39m \u001b[38;5;124m'\u001b[39m\u001b[38;5;124mpytorch\u001b[39m\u001b[38;5;124m'\u001b[39m:\n\u001b[1;32m---> 92\u001b[0m     \u001b[38;5;28mself\u001b[39m\u001b[38;5;241m.\u001b[39mexplainer \u001b[38;5;241m=\u001b[39m PyTorchDeep(model, data)\n\u001b[0;32m     94\u001b[0m \u001b[38;5;28mself\u001b[39m\u001b[38;5;241m.\u001b[39mexpected_value \u001b[38;5;241m=\u001b[39m \u001b[38;5;28mself\u001b[39m\u001b[38;5;241m.\u001b[39mexplainer\u001b[38;5;241m.\u001b[39mexpected_value\n\u001b[0;32m     95\u001b[0m \u001b[38;5;28mself\u001b[39m\u001b[38;5;241m.\u001b[39mexplainer\u001b[38;5;241m.\u001b[39mframework \u001b[38;5;241m=\u001b[39m framework\n",
      "File \u001b[1;32m~\\anaconda\\Lib\\site-packages\\shap\\explainers\\_deep\\deep_pytorch.py:53\u001b[0m, in \u001b[0;36mPyTorchDeep.__init__\u001b[1;34m(self, model, data)\u001b[0m\n\u001b[0;32m     51\u001b[0m \u001b[38;5;28mself\u001b[39m\u001b[38;5;241m.\u001b[39mnum_outputs \u001b[38;5;241m=\u001b[39m \u001b[38;5;241m1\u001b[39m\n\u001b[0;32m     52\u001b[0m \u001b[38;5;28;01mwith\u001b[39;00m torch\u001b[38;5;241m.\u001b[39mno_grad():\n\u001b[1;32m---> 53\u001b[0m     outputs \u001b[38;5;241m=\u001b[39m model(\u001b[38;5;241m*\u001b[39mdata)\n\u001b[0;32m     55\u001b[0m     \u001b[38;5;66;03m# also get the device everything is running on\u001b[39;00m\n\u001b[0;32m     56\u001b[0m     \u001b[38;5;28mself\u001b[39m\u001b[38;5;241m.\u001b[39mdevice \u001b[38;5;241m=\u001b[39m outputs\u001b[38;5;241m.\u001b[39mdevice\n",
      "File \u001b[1;32m~\\anaconda\\Lib\\site-packages\\torch\\nn\\modules\\module.py:1736\u001b[0m, in \u001b[0;36mModule._wrapped_call_impl\u001b[1;34m(self, *args, **kwargs)\u001b[0m\n\u001b[0;32m   1734\u001b[0m     \u001b[38;5;28;01mreturn\u001b[39;00m \u001b[38;5;28mself\u001b[39m\u001b[38;5;241m.\u001b[39m_compiled_call_impl(\u001b[38;5;241m*\u001b[39margs, \u001b[38;5;241m*\u001b[39m\u001b[38;5;241m*\u001b[39mkwargs)  \u001b[38;5;66;03m# type: ignore[misc]\u001b[39;00m\n\u001b[0;32m   1735\u001b[0m \u001b[38;5;28;01melse\u001b[39;00m:\n\u001b[1;32m-> 1736\u001b[0m     \u001b[38;5;28;01mreturn\u001b[39;00m \u001b[38;5;28mself\u001b[39m\u001b[38;5;241m.\u001b[39m_call_impl(\u001b[38;5;241m*\u001b[39margs, \u001b[38;5;241m*\u001b[39m\u001b[38;5;241m*\u001b[39mkwargs)\n",
      "File \u001b[1;32m~\\anaconda\\Lib\\site-packages\\torch\\nn\\modules\\module.py:1747\u001b[0m, in \u001b[0;36mModule._call_impl\u001b[1;34m(self, *args, **kwargs)\u001b[0m\n\u001b[0;32m   1742\u001b[0m \u001b[38;5;66;03m# If we don't have any hooks, we want to skip the rest of the logic in\u001b[39;00m\n\u001b[0;32m   1743\u001b[0m \u001b[38;5;66;03m# this function, and just call forward.\u001b[39;00m\n\u001b[0;32m   1744\u001b[0m \u001b[38;5;28;01mif\u001b[39;00m \u001b[38;5;129;01mnot\u001b[39;00m (\u001b[38;5;28mself\u001b[39m\u001b[38;5;241m.\u001b[39m_backward_hooks \u001b[38;5;129;01mor\u001b[39;00m \u001b[38;5;28mself\u001b[39m\u001b[38;5;241m.\u001b[39m_backward_pre_hooks \u001b[38;5;129;01mor\u001b[39;00m \u001b[38;5;28mself\u001b[39m\u001b[38;5;241m.\u001b[39m_forward_hooks \u001b[38;5;129;01mor\u001b[39;00m \u001b[38;5;28mself\u001b[39m\u001b[38;5;241m.\u001b[39m_forward_pre_hooks\n\u001b[0;32m   1745\u001b[0m         \u001b[38;5;129;01mor\u001b[39;00m _global_backward_pre_hooks \u001b[38;5;129;01mor\u001b[39;00m _global_backward_hooks\n\u001b[0;32m   1746\u001b[0m         \u001b[38;5;129;01mor\u001b[39;00m _global_forward_hooks \u001b[38;5;129;01mor\u001b[39;00m _global_forward_pre_hooks):\n\u001b[1;32m-> 1747\u001b[0m     \u001b[38;5;28;01mreturn\u001b[39;00m forward_call(\u001b[38;5;241m*\u001b[39margs, \u001b[38;5;241m*\u001b[39m\u001b[38;5;241m*\u001b[39mkwargs)\n\u001b[0;32m   1749\u001b[0m result \u001b[38;5;241m=\u001b[39m \u001b[38;5;28;01mNone\u001b[39;00m\n\u001b[0;32m   1750\u001b[0m called_always_called_hooks \u001b[38;5;241m=\u001b[39m \u001b[38;5;28mset\u001b[39m()\n",
      "\u001b[1;31mTypeError\u001b[0m: CNNFlightDelayModel.forward() missing 1 required positional argument: 'categorical_x'"
     ]
    }
   ],
   "source": [
    "model, predictions, actuals = main_cnn(train_df)\n",
    "model, predictions, actuals = main_cnn(test_df)"
   ]
  },
  {
   "cell_type": "code",
   "execution_count": null,
   "id": "672d2a45-7bc9-4f8d-89f7-23ea930a150d",
   "metadata": {
    "id": "672d2a45-7bc9-4f8d-89f7-23ea930a150d"
   },
   "outputs": [],
   "source": []
  },
  {
   "cell_type": "code",
   "execution_count": null,
   "id": "abd7ce4b-0a82-4f77-bee8-bd501a97c13b",
   "metadata": {
    "id": "abd7ce4b-0a82-4f77-bee8-bd501a97c13b"
   },
   "outputs": [],
   "source": []
  }
 ],
 "metadata": {
  "colab": {
   "provenance": []
  },
  "kernelspec": {
   "display_name": "Python 3 (ipykernel)",
   "language": "python",
   "name": "python3"
  },
  "language_info": {
   "codemirror_mode": {
    "name": "ipython",
    "version": 3
   },
   "file_extension": ".py",
   "mimetype": "text/x-python",
   "name": "python",
   "nbconvert_exporter": "python",
   "pygments_lexer": "ipython3",
   "version": "3.12.4"
  }
 },
 "nbformat": 4,
 "nbformat_minor": 5
}
